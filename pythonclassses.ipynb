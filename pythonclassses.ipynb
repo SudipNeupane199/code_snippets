{
  "nbformat": 4,
  "nbformat_minor": 0,
  "metadata": {
    "colab": {
      "name": "Untitled0.ipynb",
      "provenance": [],
      "collapsed_sections": [],
      "authorship_tag": "ABX9TyOMMGvBCYIuNFrneqVHrn8i",
      "include_colab_link": true
    },
    "kernelspec": {
      "name": "python3",
      "display_name": "Python 3"
    }
  },
  "cells": [
    {
      "cell_type": "markdown",
      "metadata": {
        "id": "view-in-github",
        "colab_type": "text"
      },
      "source": [
        "<a href=\"https://colab.research.google.com/github/SudipNeupane199/code_snippets/blob/master/pythonclassses.ipynb\" target=\"_parent\"><img src=\"https://colab.research.google.com/assets/colab-badge.svg\" alt=\"Open In Colab\"/></a>"
      ]
    },
    {
      "cell_type": "code",
      "metadata": {
        "colab": {
          "base_uri": "https://localhost:8080/"
        },
        "id": "CF9rB-cdig7h",
        "outputId": "6ded163b-7bb5-4f33-dc7f-ca9814385adc"
      },
      "source": [
        "thisset={\"apple\",\"mango\",\"banaba\"}\r\n",
        "for x in thisset:\r\n",
        "    print(x)"
      ],
      "execution_count": null,
      "outputs": [
        {
          "output_type": "stream",
          "text": [
            "apple\n",
            "banaba\n",
            "mango\n"
          ],
          "name": "stdout"
        }
      ]
    },
    {
      "cell_type": "code",
      "metadata": {
        "colab": {
          "base_uri": "https://localhost:8080/"
        },
        "id": "qJSk-XUIjCqF",
        "outputId": "6cd8f792-1952-4d54-ee6a-07699bfa5d04"
      },
      "source": [
        "thisset={\"apple\",\"mango\",\"banaba\"}\r\n",
        "thisset.update((\"orange\",\"cherry\",1))\r\n",
        "print(thisset)"
      ],
      "execution_count": null,
      "outputs": [
        {
          "output_type": "stream",
          "text": [
            "{1, 'apple', 'cherry', 'mango', 'banaba', 'orange'}\n"
          ],
          "name": "stdout"
        }
      ]
    },
    {
      "cell_type": "code",
      "metadata": {
        "colab": {
          "base_uri": "https://localhost:8080/"
        },
        "id": "CHSbmx9Vj336",
        "outputId": "f91a82b8-6ebd-42e3-b4aa-50e9f13450fd"
      },
      "source": [
        "thisset={\"apple\",\"mango\",\"banaba\"}\r\n",
        "thisset.remove(\"apple\")\r\n",
        "print(thisset)"
      ],
      "execution_count": null,
      "outputs": [
        {
          "output_type": "stream",
          "text": [
            "{'banaba', 'mango'}\n"
          ],
          "name": "stdout"
        }
      ]
    },
    {
      "cell_type": "code",
      "metadata": {
        "colab": {
          "base_uri": "https://localhost:8080/"
        },
        "id": "3kyJvy9YkSoK",
        "outputId": "1abe4880-46dd-4138-837a-8adcbe29c2fe"
      },
      "source": [
        "a={1,2,3,4}\r\n",
        "b={2,3,4,5}\r\n",
        "a.union(b)"
      ],
      "execution_count": null,
      "outputs": [
        {
          "output_type": "execute_result",
          "data": {
            "text/plain": [
              "{1, 2, 3, 4, 5}"
            ]
          },
          "metadata": {
            "tags": []
          },
          "execution_count": 20
        }
      ]
    },
    {
      "cell_type": "markdown",
      "metadata": {
        "id": "cCljDkN2lKIM"
      },
      "source": [
        "## ***`[this is a dictionary ](https://)`***\r\n",
        "\r\n"
      ]
    },
    {
      "cell_type": "code",
      "metadata": {
        "colab": {
          "base_uri": "https://localhost:8080/"
        },
        "id": "5rGp735LlT6Z",
        "outputId": "cd0a983a-e929-4a85-a670-2468136f7b13"
      },
      "source": [
        "thisdict = {\r\n",
        "  \"brand\": \"Ford\",\r\n",
        "  \"model\": \"Mustang\",\r\n",
        "  \"year\": 1964\r\n",
        "}\r\n",
        "print(thisdict)"
      ],
      "execution_count": null,
      "outputs": [
        {
          "output_type": "stream",
          "text": [
            "{'brand': 'Ford', 'model': 'Mustang', 'year': 1964}\n"
          ],
          "name": "stdout"
        }
      ]
    },
    {
      "cell_type": "code",
      "metadata": {
        "colab": {
          "base_uri": "https://localhost:8080/"
        },
        "id": "YYoZOqzBnQgz",
        "outputId": "d411eb37-c82b-4859-e50d-19664242944f"
      },
      "source": [
        "thisdict = {\r\n",
        "  \"brand\": \"Ford\",\r\n",
        "  \"model\": \"Mustang\",\r\n",
        "  \"year\": 1964\r\n",
        "}\r\n",
        "print(thisdict)\r\n",
        "for x in thisdict:\r\n",
        "    print(x)"
      ],
      "execution_count": null,
      "outputs": [
        {
          "output_type": "stream",
          "text": [
            "{'brand': 'Ford', 'model': 'Mustang', 'year': 1964}\n",
            "brand\n",
            "model\n",
            "year\n"
          ],
          "name": "stdout"
        }
      ]
    },
    {
      "cell_type": "code",
      "metadata": {
        "colab": {
          "base_uri": "https://localhost:8080/"
        },
        "id": "EgbgKcy7loVy",
        "outputId": "4d530751-7b3e-4f20-9786-d1a44a954cf3"
      },
      "source": [
        "thisdict = {\r\n",
        "  \"brand\": \"Ford\",\r\n",
        "  \"model\": \"Mustang\",\r\n",
        "  \"year\": 1964\r\n",
        "}\r\n",
        "thisdict[\"year\"]=2020\r\n",
        "print(thisdict)"
      ],
      "execution_count": null,
      "outputs": [
        {
          "output_type": "stream",
          "text": [
            "{'brand': 'Ford', 'model': 'Mustang', 'year': 2020}\n"
          ],
          "name": "stdout"
        }
      ]
    },
    {
      "cell_type": "code",
      "metadata": {
        "colab": {
          "base_uri": "https://localhost:8080/"
        },
        "id": "ZGgGnCImnh25",
        "outputId": "1da7d819-5a52-4168-f43c-8d62f95dc0d8"
      },
      "source": [
        "for x in thisdict.values():\r\n",
        "  print(x)"
      ],
      "execution_count": null,
      "outputs": [
        {
          "output_type": "stream",
          "text": [
            "Ford\n",
            "Mustang\n",
            "1964\n"
          ],
          "name": "stdout"
        }
      ]
    },
    {
      "cell_type": "code",
      "metadata": {
        "colab": {
          "base_uri": "https://localhost:8080/"
        },
        "id": "hkEs5yiPn00Q",
        "outputId": "fb0e8196-4b30-4014-f494-ab1361c653ef"
      },
      "source": [
        "for x, y in thisdict.items():\r\n",
        "    print(x,y)"
      ],
      "execution_count": null,
      "outputs": [
        {
          "output_type": "stream",
          "text": [
            "brand Ford\n",
            "model Mustang\n",
            "year 1964\n"
          ],
          "name": "stdout"
        }
      ]
    },
    {
      "cell_type": "code",
      "metadata": {
        "colab": {
          "base_uri": "https://localhost:8080/"
        },
        "id": "T2c9NwXVpABe",
        "outputId": "3369bfe4-4a1b-4202-8eeb-fdf5be8afa72"
      },
      "source": [
        "n=int(input(\"enter a number:\"))\r\n",
        "d=dict()\r\n",
        "for i in range(1,n+1):\r\n",
        "  d[i]=i*i\r\n",
        "print(d)"
      ],
      "execution_count": null,
      "outputs": [
        {
          "output_type": "stream",
          "text": [
            "enter a number:5\n",
            "{1: 1, 2: 4, 3: 9, 4: 16, 5: 25}\n"
          ],
          "name": "stdout"
        }
      ]
    },
    {
      "cell_type": "markdown",
      "metadata": {
        "id": "6nkj6t3YqrQG"
      },
      "source": [
        "moduels of function\r\n"
      ]
    },
    {
      "cell_type": "code",
      "metadata": {
        "colab": {
          "base_uri": "https://localhost:8080/"
        },
        "id": "MPy1bpijqvIS",
        "outputId": "86b3bbef-32f9-41f8-fa71-e8fe4014df66"
      },
      "source": [
        "n=int(input(\"enter a number1:\"))\r\n",
        "nn=int(input(\"enter a number2:\"))\r\n",
        "def add(n,nn):\r\n",
        "    print(n+nn) \r\n",
        "add(n,nn)"
      ],
      "execution_count": null,
      "outputs": [
        {
          "output_type": "stream",
          "text": [
            "enter a number1:6\n",
            "enter a number2:8\n",
            "14\n"
          ],
          "name": "stdout"
        }
      ]
    },
    {
      "cell_type": "code",
      "metadata": {
        "colab": {
          "base_uri": "https://localhost:8080/"
        },
        "id": "ZDet_JR0r_VL",
        "outputId": "9f211a7a-1db5-4a09-e891-8ec8423bbdb3"
      },
      "source": [
        "a=int(input(\"enter a number:\"))\r\n",
        "def factroil(a):\r\n",
        "    for i in range(1,n+1):\r\n",
        "        i=i+1\r\n",
        "        print(i)\r\n",
        "      \r\n",
        "factroil(a)"
      ],
      "execution_count": null,
      "outputs": [
        {
          "output_type": "stream",
          "text": [
            "enter a number:5\n",
            "2\n",
            "3\n",
            "4\n",
            "5\n",
            "6\n",
            "7\n"
          ],
          "name": "stdout"
        }
      ]
    },
    {
      "cell_type": "code",
      "metadata": {
        "colab": {
          "base_uri": "https://localhost:8080/"
        },
        "id": "izvCHabxtUQ9",
        "outputId": "4b88e9ed-4740-4f4e-ab6f-2eb512b9ee49"
      },
      "source": [
        "def my_function(*kids):\r\n",
        "    print(\"the youngest child is\"+kids[2])\r\n",
        "\r\n",
        "my_function(\"Emil\", \"Tobias\", \"Linus\")"
      ],
      "execution_count": null,
      "outputs": [
        {
          "output_type": "stream",
          "text": [
            "the youngest child isLinus\n"
          ],
          "name": "stdout"
        }
      ]
    },
    {
      "cell_type": "code",
      "metadata": {
        "id": "BS_j8nNcvvAk"
      },
      "source": [
        ""
      ],
      "execution_count": null,
      "outputs": []
    },
    {
      "cell_type": "code",
      "metadata": {
        "id": "XzR_UyF4u6fX"
      },
      "source": [
        ""
      ],
      "execution_count": null,
      "outputs": []
    },
    {
      "cell_type": "code",
      "metadata": {
        "colab": {
          "base_uri": "https://localhost:8080/"
        },
        "id": "pjBjcUG1rTh8",
        "outputId": "78e61cd6-9e02-4dff-a39c-93f93b94a682"
      },
      "source": [
        "def my_function(child2,child3,child1):\r\n",
        "  print(\"the youtest child is \"+child1)\r\n",
        "my_function(child1=\"email\",child2=\"facebook\",child3='whatsup')"
      ],
      "execution_count": null,
      "outputs": [
        {
          "output_type": "stream",
          "text": [
            "the youtest child is email\n"
          ],
          "name": "stdout"
        }
      ]
    },
    {
      "cell_type": "code",
      "metadata": {
        "colab": {
          "base_uri": "https://localhost:8080/"
        },
        "id": "hvcLoQlWu7ZR",
        "outputId": "450bb7c3-6491-49fe-d069-20e2b14f1cd9"
      },
      "source": [
        "def my_fuctio(food):\r\n",
        "    for x in food:\r\n",
        "      print(x)\r\n",
        "fruits=['apple',\"bababa\"]\r\n",
        "my_fuctio(fruits)"
      ],
      "execution_count": null,
      "outputs": [
        {
          "output_type": "stream",
          "text": [
            "apple\n",
            "bababa\n"
          ],
          "name": "stdout"
        }
      ]
    },
    {
      "cell_type": "code",
      "metadata": {
        "colab": {
          "base_uri": "https://localhost:8080/",
          "height": 128
        },
        "id": "oXBaIalLvv2T",
        "outputId": "32223a20-f19c-4ce7-902e-265de904f382"
      },
      "source": [
        "\r\n"
      ],
      "execution_count": null,
      "outputs": [
        {
          "output_type": "error",
          "ename": "SyntaxError",
          "evalue": "ignored",
          "traceback": [
            "\u001b[0;36m  File \u001b[0;32m\"<ipython-input-51-c730a0f98cb6>\"\u001b[0;36m, line \u001b[0;32m1\u001b[0m\n\u001b[0;31m    thisfuntion(a):\u001b[0m\n\u001b[0m                   ^\u001b[0m\n\u001b[0;31mSyntaxError\u001b[0m\u001b[0;31m:\u001b[0m invalid syntax\n"
          ]
        }
      ]
    },
    {
      "cell_type": "markdown",
      "metadata": {
        "id": "-fKRZ392wrhO"
      },
      "source": [
        "lamda argument and expression"
      ]
    },
    {
      "cell_type": "code",
      "metadata": {
        "colab": {
          "base_uri": "https://localhost:8080/"
        },
        "id": "bo_iTo3MwvIa",
        "outputId": "f7d8aded-255f-4220-f8da-ceacb1db9b25"
      },
      "source": [
        "double=lambda x:x*2\r\n",
        "print(double(5))\r\n"
      ],
      "execution_count": null,
      "outputs": [
        {
          "output_type": "stream",
          "text": [
            "10\n"
          ],
          "name": "stdout"
        }
      ]
    },
    {
      "cell_type": "code",
      "metadata": {
        "colab": {
          "base_uri": "https://localhost:8080/",
          "height": 128
        },
        "id": "uXwWsXXnvz3L",
        "outputId": "77a7aaf7-fe81-45bc-eb84-8384c8604955"
      },
      "source": [
        "mylist=[1,3,5,3,4,8,5]\r\n",
        "newlist=list(filter(lambda x:(x%2=0),mylist))\r\n",
        "print(mylist)"
      ],
      "execution_count": null,
      "outputs": [
        {
          "output_type": "error",
          "ename": "SyntaxError",
          "evalue": "ignored",
          "traceback": [
            "\u001b[0;36m  File \u001b[0;32m\"<ipython-input-63-da8ad4cd43f1>\"\u001b[0;36m, line \u001b[0;32m2\u001b[0m\n\u001b[0;31m    newlist=list(filter(lambda x:(x%2=0),mylist))\u001b[0m\n\u001b[0m                                     ^\u001b[0m\n\u001b[0;31mSyntaxError\u001b[0m\u001b[0;31m:\u001b[0m invalid syntax\n"
          ]
        }
      ]
    },
    {
      "cell_type": "markdown",
      "metadata": {
        "id": "FZGGcIa8v80a"
      },
      "source": [
        "CLASSES AND OBJECTS"
      ]
    },
    {
      "cell_type": "code",
      "metadata": {
        "colab": {
          "base_uri": "https://localhost:8080/"
        },
        "id": "GFr9Qzjxx8Rl",
        "outputId": "57149509-548d-4a04-8b6a-f85f093426e4"
      },
      "source": [
        "class Person:\r\n",
        "    \"This is a person class\"\r\n",
        "    age = 10\r\n",
        "\r\n",
        "    def greet(self):\r\n",
        "        print('Hello')\r\n",
        "\r\n",
        "\r\n",
        "# Output: 10\r\n",
        "print(Person.age)\r\n",
        "\r\n",
        "# Output: <function Person.greet>\r\n",
        "print(Person.greet)\r\n"
      ],
      "execution_count": 8,
      "outputs": [
        {
          "output_type": "stream",
          "text": [
            "10\n",
            "<function Person.greet at 0x7f0c9c1bd0e0>\n"
          ],
          "name": "stdout"
        }
      ]
    },
    {
      "cell_type": "code",
      "metadata": {
        "colab": {
          "base_uri": "https://localhost:8080/"
        },
        "id": "d4xicwUDyPoj",
        "outputId": "344b0457-cf3b-4755-9554-030c71ec154d"
      },
      "source": [
        "class person:\r\n",
        "    def __init__(self,name,age):\r\n",
        "        self.name=name\r\n",
        "        self.age=age\r\n",
        "p1=person(\"sudip\",21)\r\n",
        "print(p1.name)\r\n",
        "print(p1.age)"
      ],
      "execution_count": 11,
      "outputs": [
        {
          "output_type": "stream",
          "text": [
            "sudip\n",
            "21\n"
          ],
          "name": "stdout"
        }
      ]
    },
    {
      "cell_type": "code",
      "metadata": {
        "colab": {
          "base_uri": "https://localhost:8080/"
        },
        "id": "VON7RPQHzkVu",
        "outputId": "79003aab-2d06-40c7-8561-61c114e0b2d5"
      },
      "source": [
        "class employe:\r\n",
        "    def __init__(self,name,id):\r\n",
        "        self.name=name\r\n",
        "        self.id=id\r\n",
        "    def get_data(self):\r\n",
        "        print(f'{self.name},{self.id}')\r\n",
        "emp1=employe(\"sudip\",753)\r\n",
        "emp2=employe(\"rayan\",702)\r\n",
        "emp1.get_data()\r\n",
        "emp2.get_data()\r\n",
        "\r\n"
      ],
      "execution_count": 23,
      "outputs": [
        {
          "output_type": "stream",
          "text": [
            "sudip,750\n",
            "rayan,702\n"
          ],
          "name": "stdout"
        }
      ]
    },
    {
      "cell_type": "code",
      "metadata": {
        "colab": {
          "base_uri": "https://localhost:8080/",
          "height": 363
        },
        "id": "6nUyB_OC3sBF",
        "outputId": "60550bb5-ef55-41ea-eaee-590ae3ba296b"
      },
      "source": [
        "class Bank_Account:\r\n",
        "    def __init__(self):\r\n",
        "      self.balance=0\r\n",
        "      print(\"hello,welcome to the Deposit and withdrawal machine:\")\r\n",
        "    def __init__(self):\r\n",
        "        amount=float(input(\"enter amout to be Deposited:\"))\r\n",
        "        self.balance+=amount\r\n",
        "        print(\"\\n amount Deposit:\",amount)\r\n",
        "    def withdraw(self):\r\n",
        "        amount=float(input(\"enter amount to withdrawn:\"))\r\n",
        "        if self.balance>=amount:\r\n",
        "            self.balance-=amount\r\n",
        "            print(\"/n you withdrew\")\r\n",
        "        else:\r\n",
        "            print(\"\\n insufficient balance\")\r\n",
        "    def display(self):\r\n",
        "        print(\"\\n Net Available Balance=\",self.balance)\r\n",
        "s=Bank_Account()\r\n",
        "s.Deposit()\r\n",
        "s.withdraw()\r\n",
        "s.display\r\n"
      ],
      "execution_count": 26,
      "outputs": [
        {
          "output_type": "stream",
          "text": [
            "enter amout to be Deposited:1000\n"
          ],
          "name": "stdout"
        },
        {
          "output_type": "error",
          "ename": "AttributeError",
          "evalue": "ignored",
          "traceback": [
            "\u001b[0;31m---------------------------------------------------------------------------\u001b[0m",
            "\u001b[0;31mAttributeError\u001b[0m                            Traceback (most recent call last)",
            "\u001b[0;32m<ipython-input-26-2e8f0ca8153a>\u001b[0m in \u001b[0;36m<module>\u001b[0;34m()\u001b[0m\n\u001b[1;32m     16\u001b[0m     \u001b[0;32mdef\u001b[0m \u001b[0mdisplay\u001b[0m\u001b[0;34m(\u001b[0m\u001b[0mself\u001b[0m\u001b[0;34m)\u001b[0m\u001b[0;34m:\u001b[0m\u001b[0;34m\u001b[0m\u001b[0;34m\u001b[0m\u001b[0m\n\u001b[1;32m     17\u001b[0m         \u001b[0mprint\u001b[0m\u001b[0;34m(\u001b[0m\u001b[0;34m\"\\n Net Available Balance=\"\u001b[0m\u001b[0;34m,\u001b[0m\u001b[0mself\u001b[0m\u001b[0;34m.\u001b[0m\u001b[0mbalance\u001b[0m\u001b[0;34m)\u001b[0m\u001b[0;34m\u001b[0m\u001b[0;34m\u001b[0m\u001b[0m\n\u001b[0;32m---> 18\u001b[0;31m \u001b[0ms\u001b[0m\u001b[0;34m=\u001b[0m\u001b[0mBank_Account\u001b[0m\u001b[0;34m(\u001b[0m\u001b[0;34m)\u001b[0m\u001b[0;34m\u001b[0m\u001b[0;34m\u001b[0m\u001b[0m\n\u001b[0m\u001b[1;32m     19\u001b[0m \u001b[0ms\u001b[0m\u001b[0;34m.\u001b[0m\u001b[0mDeposit\u001b[0m\u001b[0;34m(\u001b[0m\u001b[0;34m)\u001b[0m\u001b[0;34m\u001b[0m\u001b[0;34m\u001b[0m\u001b[0m\n\u001b[1;32m     20\u001b[0m \u001b[0ms\u001b[0m\u001b[0;34m.\u001b[0m\u001b[0mwithdraw\u001b[0m\u001b[0;34m(\u001b[0m\u001b[0;34m)\u001b[0m\u001b[0;34m\u001b[0m\u001b[0;34m\u001b[0m\u001b[0m\n",
            "\u001b[0;32m<ipython-input-26-2e8f0ca8153a>\u001b[0m in \u001b[0;36m__init__\u001b[0;34m(self)\u001b[0m\n\u001b[1;32m      5\u001b[0m     \u001b[0;32mdef\u001b[0m \u001b[0m__init__\u001b[0m\u001b[0;34m(\u001b[0m\u001b[0mself\u001b[0m\u001b[0;34m)\u001b[0m\u001b[0;34m:\u001b[0m\u001b[0;34m\u001b[0m\u001b[0;34m\u001b[0m\u001b[0m\n\u001b[1;32m      6\u001b[0m         \u001b[0mamount\u001b[0m\u001b[0;34m=\u001b[0m\u001b[0mfloat\u001b[0m\u001b[0;34m(\u001b[0m\u001b[0minput\u001b[0m\u001b[0;34m(\u001b[0m\u001b[0;34m\"enter amout to be Deposited:\"\u001b[0m\u001b[0;34m)\u001b[0m\u001b[0;34m)\u001b[0m\u001b[0;34m\u001b[0m\u001b[0;34m\u001b[0m\u001b[0m\n\u001b[0;32m----> 7\u001b[0;31m         \u001b[0mself\u001b[0m\u001b[0;34m.\u001b[0m\u001b[0mbalance\u001b[0m\u001b[0;34m+=\u001b[0m\u001b[0mamount\u001b[0m\u001b[0;34m\u001b[0m\u001b[0;34m\u001b[0m\u001b[0m\n\u001b[0m\u001b[1;32m      8\u001b[0m         \u001b[0mprint\u001b[0m\u001b[0;34m(\u001b[0m\u001b[0;34m\"\\n amount Deposit:\"\u001b[0m\u001b[0;34m,\u001b[0m\u001b[0mamount\u001b[0m\u001b[0;34m)\u001b[0m\u001b[0;34m\u001b[0m\u001b[0;34m\u001b[0m\u001b[0m\n\u001b[1;32m      9\u001b[0m     \u001b[0;32mdef\u001b[0m \u001b[0mwithdraw\u001b[0m\u001b[0;34m(\u001b[0m\u001b[0mself\u001b[0m\u001b[0;34m)\u001b[0m\u001b[0;34m:\u001b[0m\u001b[0;34m\u001b[0m\u001b[0;34m\u001b[0m\u001b[0m\n",
            "\u001b[0;31mAttributeError\u001b[0m: 'Bank_Account' object has no attribute 'balance'"
          ]
        }
      ]
    },
    {
      "cell_type": "code",
      "metadata": {
        "colab": {
          "base_uri": "https://localhost:8080/"
        },
        "id": "PKGmA-D66F8N",
        "outputId": "03b02470-dea8-4a00-c242-3bd4a0579abf"
      },
      "source": [
        "class Polygon:\r\n",
        "    def __init__(self, no_of_sides):\r\n",
        "        self.n = no_of_sides\r\n",
        "        self.sides = [0 for i in range(no_of_sides)]\r\n",
        "\r\n",
        "    def inputSides(self):\r\n",
        "        self.sides = [float(input(\"Enter side \"+str(i+1)+\" : \")) for i in range(self.n)]\r\n",
        "\r\n",
        "    def dispSides(self):\r\n",
        "        for i in range(self.n):\r\n",
        "            print(\"Side\",i+1,\"is\",self.sides[i])\r\n",
        "class Triangle(Polygon):\r\n",
        "    def __init__(self):\r\n",
        "        Polygon.__init__(self,3)\r\n",
        "\r\n",
        "    def findArea(self):\r\n",
        "        a, b, c = self.sides\r\n",
        "        # calculate the semi-perimeter\r\n",
        "        s = (a + b + c) / 2\r\n",
        "        area = (s*(s-a)*(s-b)*(s-c)) ** 0.5\r\n",
        "        print('The area of the triangle is %0.2f' %area)\r\n",
        "t = Triangle()\r\n",
        "t.inputSides()\r\n",
        "t.findArea()\r\n"
      ],
      "execution_count": 27,
      "outputs": [
        {
          "output_type": "stream",
          "text": [
            "Enter side 1 : 12\n",
            "Enter side 2 : 13\n",
            "Enter side 3 : 14\n",
            "The area of the triangle is 72.31\n"
          ],
          "name": "stdout"
        }
      ]
    },
    {
      "cell_type": "code",
      "metadata": {
        "id": "4Xc7fiwT0dur"
      },
      "source": [
        ""
      ],
      "execution_count": null,
      "outputs": []
    }
  ]
}